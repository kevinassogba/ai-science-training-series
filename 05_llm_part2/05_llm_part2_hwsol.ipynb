{
 "cells": [
  {
   "cell_type": "code",
   "execution_count": 3,
   "id": "3b6a2aac-a470-48c9-9132-4534a077e3c8",
   "metadata": {},
   "outputs": [
    {
     "name": "stdout",
     "output_type": "stream",
     "text": [
      "Defaulting to user installation because normal site-packages is not writeable\n",
      "Requirement already satisfied: transformers in /soft/applications/conda/2024-08-08/mconda3/lib/python3.11/site-packages (4.44.0)\n",
      "Requirement already satisfied: filelock in /soft/applications/conda/2024-08-08/mconda3/lib/python3.11/site-packages (from transformers) (3.13.1)\n",
      "Requirement already satisfied: huggingface-hub<1.0,>=0.23.2 in /soft/applications/conda/2024-08-08/mconda3/lib/python3.11/site-packages (from transformers) (0.24.5)\n",
      "Requirement already satisfied: numpy>=1.17 in /soft/applications/conda/2024-08-08/mconda3/lib/python3.11/site-packages (from transformers) (1.26.4)\n",
      "Requirement already satisfied: packaging>=20.0 in /soft/applications/conda/2024-08-08/mconda3/lib/python3.11/site-packages (from transformers) (24.1)\n",
      "Requirement already satisfied: pyyaml>=5.1 in /soft/applications/conda/2024-08-08/mconda3/lib/python3.11/site-packages (from transformers) (6.0.2)\n",
      "Requirement already satisfied: regex!=2019.12.17 in /soft/applications/conda/2024-08-08/mconda3/lib/python3.11/site-packages (from transformers) (2024.7.24)\n",
      "Requirement already satisfied: requests in /soft/applications/conda/2024-08-08/mconda3/lib/python3.11/site-packages (from transformers) (2.32.3)\n",
      "Requirement already satisfied: safetensors>=0.4.1 in /soft/applications/conda/2024-08-08/mconda3/lib/python3.11/site-packages (from transformers) (0.4.4)\n",
      "Requirement already satisfied: tokenizers<0.20,>=0.19 in /soft/applications/conda/2024-08-08/mconda3/lib/python3.11/site-packages (from transformers) (0.19.1)\n",
      "Requirement already satisfied: tqdm>=4.27 in /soft/applications/conda/2024-08-08/mconda3/lib/python3.11/site-packages (from transformers) (4.66.4)\n",
      "Requirement already satisfied: fsspec>=2023.5.0 in /soft/applications/conda/2024-08-08/mconda3/lib/python3.11/site-packages (from huggingface-hub<1.0,>=0.23.2->transformers) (2024.6.1)\n",
      "Requirement already satisfied: typing-extensions>=3.7.4.3 in /soft/applications/conda/2024-08-08/mconda3/lib/python3.11/site-packages (from huggingface-hub<1.0,>=0.23.2->transformers) (4.12.2)\n",
      "Requirement already satisfied: charset-normalizer<4,>=2 in /soft/applications/conda/2024-08-08/mconda3/lib/python3.11/site-packages (from requests->transformers) (2.0.4)\n",
      "Requirement already satisfied: idna<4,>=2.5 in /soft/applications/conda/2024-08-08/mconda3/lib/python3.11/site-packages (from requests->transformers) (3.7)\n",
      "Requirement already satisfied: urllib3<3,>=1.21.1 in /soft/applications/conda/2024-08-08/mconda3/lib/python3.11/site-packages (from requests->transformers) (2.2.2)\n",
      "Requirement already satisfied: certifi>=2017.4.17 in /soft/applications/conda/2024-08-08/mconda3/lib/python3.11/site-packages (from requests->transformers) (2024.7.4)\n",
      "Defaulting to user installation because normal site-packages is not writeable\n",
      "Requirement already satisfied: einops in /soft/applications/conda/2024-08-08/mconda3/lib/python3.11/site-packages (0.8.0)\n",
      "Defaulting to user installation because normal site-packages is not writeable\n",
      "Requirement already satisfied: accelerate in /soft/applications/conda/2024-08-08/mconda3/lib/python3.11/site-packages (0.33.0)\n",
      "Requirement already satisfied: numpy<2.0.0,>=1.17 in /soft/applications/conda/2024-08-08/mconda3/lib/python3.11/site-packages (from accelerate) (1.26.4)\n",
      "Requirement already satisfied: packaging>=20.0 in /soft/applications/conda/2024-08-08/mconda3/lib/python3.11/site-packages (from accelerate) (24.1)\n",
      "Requirement already satisfied: psutil in /soft/applications/conda/2024-08-08/mconda3/lib/python3.11/site-packages (from accelerate) (6.0.0)\n",
      "Requirement already satisfied: pyyaml in /soft/applications/conda/2024-08-08/mconda3/lib/python3.11/site-packages (from accelerate) (6.0.2)\n",
      "Requirement already satisfied: torch>=1.10.0 in /soft/applications/conda/2024-08-08/mconda3/lib/python3.11/site-packages (from accelerate) (2.4.0)\n",
      "Requirement already satisfied: huggingface-hub>=0.21.0 in /soft/applications/conda/2024-08-08/mconda3/lib/python3.11/site-packages (from accelerate) (0.24.5)\n",
      "Requirement already satisfied: safetensors>=0.3.1 in /soft/applications/conda/2024-08-08/mconda3/lib/python3.11/site-packages (from accelerate) (0.4.4)\n",
      "Requirement already satisfied: filelock in /soft/applications/conda/2024-08-08/mconda3/lib/python3.11/site-packages (from huggingface-hub>=0.21.0->accelerate) (3.13.1)\n",
      "Requirement already satisfied: fsspec>=2023.5.0 in /soft/applications/conda/2024-08-08/mconda3/lib/python3.11/site-packages (from huggingface-hub>=0.21.0->accelerate) (2024.6.1)\n",
      "Requirement already satisfied: requests in /soft/applications/conda/2024-08-08/mconda3/lib/python3.11/site-packages (from huggingface-hub>=0.21.0->accelerate) (2.32.3)\n",
      "Requirement already satisfied: tqdm>=4.42.1 in /soft/applications/conda/2024-08-08/mconda3/lib/python3.11/site-packages (from huggingface-hub>=0.21.0->accelerate) (4.66.4)\n",
      "Requirement already satisfied: typing-extensions>=3.7.4.3 in /soft/applications/conda/2024-08-08/mconda3/lib/python3.11/site-packages (from huggingface-hub>=0.21.0->accelerate) (4.12.2)\n",
      "Requirement already satisfied: sympy in /soft/applications/conda/2024-08-08/mconda3/lib/python3.11/site-packages (from torch>=1.10.0->accelerate) (1.13.2)\n",
      "Requirement already satisfied: networkx in /soft/applications/conda/2024-08-08/mconda3/lib/python3.11/site-packages (from torch>=1.10.0->accelerate) (3.3)\n",
      "Requirement already satisfied: jinja2 in /soft/applications/conda/2024-08-08/mconda3/lib/python3.11/site-packages (from torch>=1.10.0->accelerate) (3.1.4)\n",
      "Requirement already satisfied: MarkupSafe>=2.0 in /soft/applications/conda/2024-08-08/mconda3/lib/python3.11/site-packages (from jinja2->torch>=1.10.0->accelerate) (2.1.3)\n",
      "Requirement already satisfied: charset-normalizer<4,>=2 in /soft/applications/conda/2024-08-08/mconda3/lib/python3.11/site-packages (from requests->huggingface-hub>=0.21.0->accelerate) (2.0.4)\n",
      "Requirement already satisfied: idna<4,>=2.5 in /soft/applications/conda/2024-08-08/mconda3/lib/python3.11/site-packages (from requests->huggingface-hub>=0.21.0->accelerate) (3.7)\n",
      "Requirement already satisfied: urllib3<3,>=1.21.1 in /soft/applications/conda/2024-08-08/mconda3/lib/python3.11/site-packages (from requests->huggingface-hub>=0.21.0->accelerate) (2.2.2)\n",
      "Requirement already satisfied: certifi>=2017.4.17 in /soft/applications/conda/2024-08-08/mconda3/lib/python3.11/site-packages (from requests->huggingface-hub>=0.21.0->accelerate) (2024.7.4)\n",
      "Requirement already satisfied: mpmath<1.4,>=1.1.0 in /soft/applications/conda/2024-08-08/mconda3/lib/python3.11/site-packages (from sympy->torch>=1.10.0->accelerate) (1.3.0)\n",
      "Defaulting to user installation because normal site-packages is not writeable\n",
      "Requirement already satisfied: huggingface_hub in /soft/applications/conda/2024-08-08/mconda3/lib/python3.11/site-packages (0.24.5)\n",
      "Requirement already satisfied: filelock in /soft/applications/conda/2024-08-08/mconda3/lib/python3.11/site-packages (from huggingface_hub) (3.13.1)\n",
      "Requirement already satisfied: fsspec>=2023.5.0 in /soft/applications/conda/2024-08-08/mconda3/lib/python3.11/site-packages (from huggingface_hub) (2024.6.1)\n",
      "Requirement already satisfied: packaging>=20.9 in /soft/applications/conda/2024-08-08/mconda3/lib/python3.11/site-packages (from huggingface_hub) (24.1)\n",
      "Requirement already satisfied: pyyaml>=5.1 in /soft/applications/conda/2024-08-08/mconda3/lib/python3.11/site-packages (from huggingface_hub) (6.0.2)\n",
      "Requirement already satisfied: requests in /soft/applications/conda/2024-08-08/mconda3/lib/python3.11/site-packages (from huggingface_hub) (2.32.3)\n",
      "Requirement already satisfied: tqdm>=4.42.1 in /soft/applications/conda/2024-08-08/mconda3/lib/python3.11/site-packages (from huggingface_hub) (4.66.4)\n",
      "Requirement already satisfied: typing-extensions>=3.7.4.3 in /soft/applications/conda/2024-08-08/mconda3/lib/python3.11/site-packages (from huggingface_hub) (4.12.2)\n",
      "Requirement already satisfied: charset-normalizer<4,>=2 in /soft/applications/conda/2024-08-08/mconda3/lib/python3.11/site-packages (from requests->huggingface_hub) (2.0.4)\n",
      "Requirement already satisfied: idna<4,>=2.5 in /soft/applications/conda/2024-08-08/mconda3/lib/python3.11/site-packages (from requests->huggingface_hub) (3.7)\n",
      "Requirement already satisfied: urllib3<3,>=1.21.1 in /soft/applications/conda/2024-08-08/mconda3/lib/python3.11/site-packages (from requests->huggingface_hub) (2.2.2)\n",
      "Requirement already satisfied: certifi>=2017.4.17 in /soft/applications/conda/2024-08-08/mconda3/lib/python3.11/site-packages (from requests->huggingface_hub) (2024.7.4)\n",
      "Defaulting to user installation because normal site-packages is not writeable\n",
      "Requirement already satisfied: langchain in /home/keveltun/.local/lib/python3.11/site-packages (0.3.8)\n",
      "Requirement already satisfied: PyYAML>=5.3 in /soft/applications/conda/2024-08-08/mconda3/lib/python3.11/site-packages (from langchain) (6.0.2)\n",
      "Requirement already satisfied: SQLAlchemy<3,>=1.4 in /soft/applications/conda/2024-08-08/mconda3/lib/python3.11/site-packages (from langchain) (2.0.32)\n",
      "Requirement already satisfied: aiohttp<4.0.0,>=3.8.3 in /soft/applications/conda/2024-08-08/mconda3/lib/python3.11/site-packages (from langchain) (3.10.3)\n",
      "Requirement already satisfied: langchain-core<0.4.0,>=0.3.21 in /home/keveltun/.local/lib/python3.11/site-packages (from langchain) (0.3.21)\n",
      "Requirement already satisfied: langchain-text-splitters<0.4.0,>=0.3.0 in /home/keveltun/.local/lib/python3.11/site-packages (from langchain) (0.3.2)\n",
      "Requirement already satisfied: langsmith<0.2.0,>=0.1.17 in /home/keveltun/.local/lib/python3.11/site-packages (from langchain) (0.1.146)\n",
      "Requirement already satisfied: numpy<2,>=1.22.4 in /soft/applications/conda/2024-08-08/mconda3/lib/python3.11/site-packages (from langchain) (1.26.4)\n",
      "Requirement already satisfied: pydantic<3.0.0,>=2.7.4 in /soft/applications/conda/2024-08-08/mconda3/lib/python3.11/site-packages (from langchain) (2.8.2)\n",
      "Requirement already satisfied: requests<3,>=2 in /soft/applications/conda/2024-08-08/mconda3/lib/python3.11/site-packages (from langchain) (2.32.3)\n",
      "Requirement already satisfied: tenacity!=8.4.0,<10,>=8.1.0 in /home/keveltun/.local/lib/python3.11/site-packages (from langchain) (9.0.0)\n",
      "Requirement already satisfied: aiohappyeyeballs>=2.3.0 in /soft/applications/conda/2024-08-08/mconda3/lib/python3.11/site-packages (from aiohttp<4.0.0,>=3.8.3->langchain) (2.3.5)\n",
      "Requirement already satisfied: aiosignal>=1.1.2 in /soft/applications/conda/2024-08-08/mconda3/lib/python3.11/site-packages (from aiohttp<4.0.0,>=3.8.3->langchain) (1.3.1)\n",
      "Requirement already satisfied: attrs>=17.3.0 in /soft/applications/conda/2024-08-08/mconda3/lib/python3.11/site-packages (from aiohttp<4.0.0,>=3.8.3->langchain) (23.1.0)\n",
      "Requirement already satisfied: frozenlist>=1.1.1 in /soft/applications/conda/2024-08-08/mconda3/lib/python3.11/site-packages (from aiohttp<4.0.0,>=3.8.3->langchain) (1.4.1)\n",
      "Requirement already satisfied: multidict<7.0,>=4.5 in /soft/applications/conda/2024-08-08/mconda3/lib/python3.11/site-packages (from aiohttp<4.0.0,>=3.8.3->langchain) (6.0.5)\n",
      "Requirement already satisfied: yarl<2.0,>=1.0 in /soft/applications/conda/2024-08-08/mconda3/lib/python3.11/site-packages (from aiohttp<4.0.0,>=3.8.3->langchain) (1.9.4)\n",
      "Requirement already satisfied: jsonpatch<2.0,>=1.33 in /soft/applications/conda/2024-08-08/mconda3/lib/python3.11/site-packages (from langchain-core<0.4.0,>=0.3.21->langchain) (1.33)\n",
      "Requirement already satisfied: packaging<25,>=23.2 in /soft/applications/conda/2024-08-08/mconda3/lib/python3.11/site-packages (from langchain-core<0.4.0,>=0.3.21->langchain) (24.1)\n",
      "Requirement already satisfied: typing-extensions>=4.7 in /soft/applications/conda/2024-08-08/mconda3/lib/python3.11/site-packages (from langchain-core<0.4.0,>=0.3.21->langchain) (4.12.2)\n",
      "Requirement already satisfied: httpx<1,>=0.23.0 in /soft/applications/conda/2024-08-08/mconda3/lib/python3.11/site-packages (from langsmith<0.2.0,>=0.1.17->langchain) (0.27.0)\n",
      "Requirement already satisfied: orjson<4.0.0,>=3.9.14 in /home/keveltun/.local/lib/python3.11/site-packages (from langsmith<0.2.0,>=0.1.17->langchain) (3.10.12)\n",
      "Requirement already satisfied: requests-toolbelt<2.0.0,>=1.0.0 in /home/keveltun/.local/lib/python3.11/site-packages (from langsmith<0.2.0,>=0.1.17->langchain) (1.0.0)\n",
      "Requirement already satisfied: annotated-types>=0.4.0 in /soft/applications/conda/2024-08-08/mconda3/lib/python3.11/site-packages (from pydantic<3.0.0,>=2.7.4->langchain) (0.7.0)\n",
      "Requirement already satisfied: pydantic-core==2.20.1 in /soft/applications/conda/2024-08-08/mconda3/lib/python3.11/site-packages (from pydantic<3.0.0,>=2.7.4->langchain) (2.20.1)\n",
      "Requirement already satisfied: charset-normalizer<4,>=2 in /soft/applications/conda/2024-08-08/mconda3/lib/python3.11/site-packages (from requests<3,>=2->langchain) (2.0.4)\n",
      "Requirement already satisfied: idna<4,>=2.5 in /soft/applications/conda/2024-08-08/mconda3/lib/python3.11/site-packages (from requests<3,>=2->langchain) (3.7)\n",
      "Requirement already satisfied: urllib3<3,>=1.21.1 in /soft/applications/conda/2024-08-08/mconda3/lib/python3.11/site-packages (from requests<3,>=2->langchain) (2.2.2)\n",
      "Requirement already satisfied: certifi>=2017.4.17 in /soft/applications/conda/2024-08-08/mconda3/lib/python3.11/site-packages (from requests<3,>=2->langchain) (2024.7.4)\n",
      "Requirement already satisfied: greenlet!=0.4.17 in /soft/applications/conda/2024-08-08/mconda3/lib/python3.11/site-packages (from SQLAlchemy<3,>=1.4->langchain) (3.0.3)\n",
      "Requirement already satisfied: anyio in /soft/applications/conda/2024-08-08/mconda3/lib/python3.11/site-packages (from httpx<1,>=0.23.0->langsmith<0.2.0,>=0.1.17->langchain) (4.4.0)\n",
      "Requirement already satisfied: httpcore==1.* in /soft/applications/conda/2024-08-08/mconda3/lib/python3.11/site-packages (from httpx<1,>=0.23.0->langsmith<0.2.0,>=0.1.17->langchain) (1.0.5)\n",
      "Requirement already satisfied: sniffio in /soft/applications/conda/2024-08-08/mconda3/lib/python3.11/site-packages (from httpx<1,>=0.23.0->langsmith<0.2.0,>=0.1.17->langchain) (1.3.1)\n",
      "Requirement already satisfied: h11<0.15,>=0.13 in /soft/applications/conda/2024-08-08/mconda3/lib/python3.11/site-packages (from httpcore==1.*->httpx<1,>=0.23.0->langsmith<0.2.0,>=0.1.17->langchain) (0.14.0)\n",
      "Requirement already satisfied: jsonpointer>=1.9 in /soft/applications/conda/2024-08-08/mconda3/lib/python3.11/site-packages (from jsonpatch<2.0,>=1.33->langchain-core<0.4.0,>=0.3.21->langchain) (2.1)\n",
      "Defaulting to user installation because normal site-packages is not writeable\n",
      "Requirement already satisfied: langchain-community in /home/keveltun/.local/lib/python3.11/site-packages (0.3.8)\n",
      "Requirement already satisfied: PyYAML>=5.3 in /soft/applications/conda/2024-08-08/mconda3/lib/python3.11/site-packages (from langchain-community) (6.0.2)\n",
      "Requirement already satisfied: SQLAlchemy<2.0.36,>=1.4 in /soft/applications/conda/2024-08-08/mconda3/lib/python3.11/site-packages (from langchain-community) (2.0.32)\n",
      "Requirement already satisfied: aiohttp<4.0.0,>=3.8.3 in /soft/applications/conda/2024-08-08/mconda3/lib/python3.11/site-packages (from langchain-community) (3.10.3)\n",
      "Requirement already satisfied: dataclasses-json<0.7,>=0.5.7 in /home/keveltun/.local/lib/python3.11/site-packages (from langchain-community) (0.6.7)\n",
      "Requirement already satisfied: httpx-sse<0.5.0,>=0.4.0 in /home/keveltun/.local/lib/python3.11/site-packages (from langchain-community) (0.4.0)\n",
      "Requirement already satisfied: langchain<0.4.0,>=0.3.8 in /home/keveltun/.local/lib/python3.11/site-packages (from langchain-community) (0.3.8)\n",
      "Requirement already satisfied: langchain-core<0.4.0,>=0.3.21 in /home/keveltun/.local/lib/python3.11/site-packages (from langchain-community) (0.3.21)\n",
      "Requirement already satisfied: langsmith<0.2.0,>=0.1.125 in /home/keveltun/.local/lib/python3.11/site-packages (from langchain-community) (0.1.146)\n",
      "Requirement already satisfied: numpy<2,>=1.22.4 in /soft/applications/conda/2024-08-08/mconda3/lib/python3.11/site-packages (from langchain-community) (1.26.4)\n",
      "Requirement already satisfied: pydantic-settings<3.0.0,>=2.4.0 in /home/keveltun/.local/lib/python3.11/site-packages (from langchain-community) (2.6.1)\n",
      "Requirement already satisfied: requests<3,>=2 in /soft/applications/conda/2024-08-08/mconda3/lib/python3.11/site-packages (from langchain-community) (2.32.3)\n",
      "Requirement already satisfied: tenacity!=8.4.0,<10,>=8.1.0 in /home/keveltun/.local/lib/python3.11/site-packages (from langchain-community) (9.0.0)\n",
      "Requirement already satisfied: aiohappyeyeballs>=2.3.0 in /soft/applications/conda/2024-08-08/mconda3/lib/python3.11/site-packages (from aiohttp<4.0.0,>=3.8.3->langchain-community) (2.3.5)\n",
      "Requirement already satisfied: aiosignal>=1.1.2 in /soft/applications/conda/2024-08-08/mconda3/lib/python3.11/site-packages (from aiohttp<4.0.0,>=3.8.3->langchain-community) (1.3.1)\n",
      "Requirement already satisfied: attrs>=17.3.0 in /soft/applications/conda/2024-08-08/mconda3/lib/python3.11/site-packages (from aiohttp<4.0.0,>=3.8.3->langchain-community) (23.1.0)\n",
      "Requirement already satisfied: frozenlist>=1.1.1 in /soft/applications/conda/2024-08-08/mconda3/lib/python3.11/site-packages (from aiohttp<4.0.0,>=3.8.3->langchain-community) (1.4.1)\n",
      "Requirement already satisfied: multidict<7.0,>=4.5 in /soft/applications/conda/2024-08-08/mconda3/lib/python3.11/site-packages (from aiohttp<4.0.0,>=3.8.3->langchain-community) (6.0.5)\n",
      "Requirement already satisfied: yarl<2.0,>=1.0 in /soft/applications/conda/2024-08-08/mconda3/lib/python3.11/site-packages (from aiohttp<4.0.0,>=3.8.3->langchain-community) (1.9.4)\n",
      "Requirement already satisfied: marshmallow<4.0.0,>=3.18.0 in /home/keveltun/.local/lib/python3.11/site-packages (from dataclasses-json<0.7,>=0.5.7->langchain-community) (3.23.1)\n",
      "Requirement already satisfied: typing-inspect<1,>=0.4.0 in /home/keveltun/.local/lib/python3.11/site-packages (from dataclasses-json<0.7,>=0.5.7->langchain-community) (0.9.0)\n",
      "Requirement already satisfied: langchain-text-splitters<0.4.0,>=0.3.0 in /home/keveltun/.local/lib/python3.11/site-packages (from langchain<0.4.0,>=0.3.8->langchain-community) (0.3.2)\n",
      "Requirement already satisfied: pydantic<3.0.0,>=2.7.4 in /soft/applications/conda/2024-08-08/mconda3/lib/python3.11/site-packages (from langchain<0.4.0,>=0.3.8->langchain-community) (2.8.2)\n",
      "Requirement already satisfied: jsonpatch<2.0,>=1.33 in /soft/applications/conda/2024-08-08/mconda3/lib/python3.11/site-packages (from langchain-core<0.4.0,>=0.3.21->langchain-community) (1.33)\n",
      "Requirement already satisfied: packaging<25,>=23.2 in /soft/applications/conda/2024-08-08/mconda3/lib/python3.11/site-packages (from langchain-core<0.4.0,>=0.3.21->langchain-community) (24.1)\n",
      "Requirement already satisfied: typing-extensions>=4.7 in /soft/applications/conda/2024-08-08/mconda3/lib/python3.11/site-packages (from langchain-core<0.4.0,>=0.3.21->langchain-community) (4.12.2)\n",
      "Requirement already satisfied: httpx<1,>=0.23.0 in /soft/applications/conda/2024-08-08/mconda3/lib/python3.11/site-packages (from langsmith<0.2.0,>=0.1.125->langchain-community) (0.27.0)\n",
      "Requirement already satisfied: orjson<4.0.0,>=3.9.14 in /home/keveltun/.local/lib/python3.11/site-packages (from langsmith<0.2.0,>=0.1.125->langchain-community) (3.10.12)\n",
      "Requirement already satisfied: requests-toolbelt<2.0.0,>=1.0.0 in /home/keveltun/.local/lib/python3.11/site-packages (from langsmith<0.2.0,>=0.1.125->langchain-community) (1.0.0)\n",
      "Requirement already satisfied: python-dotenv>=0.21.0 in /home/keveltun/.local/lib/python3.11/site-packages (from pydantic-settings<3.0.0,>=2.4.0->langchain-community) (1.0.1)\n",
      "Requirement already satisfied: charset-normalizer<4,>=2 in /soft/applications/conda/2024-08-08/mconda3/lib/python3.11/site-packages (from requests<3,>=2->langchain-community) (2.0.4)\n",
      "Requirement already satisfied: idna<4,>=2.5 in /soft/applications/conda/2024-08-08/mconda3/lib/python3.11/site-packages (from requests<3,>=2->langchain-community) (3.7)\n",
      "Requirement already satisfied: urllib3<3,>=1.21.1 in /soft/applications/conda/2024-08-08/mconda3/lib/python3.11/site-packages (from requests<3,>=2->langchain-community) (2.2.2)\n",
      "Requirement already satisfied: certifi>=2017.4.17 in /soft/applications/conda/2024-08-08/mconda3/lib/python3.11/site-packages (from requests<3,>=2->langchain-community) (2024.7.4)\n",
      "Requirement already satisfied: greenlet!=0.4.17 in /soft/applications/conda/2024-08-08/mconda3/lib/python3.11/site-packages (from SQLAlchemy<2.0.36,>=1.4->langchain-community) (3.0.3)\n",
      "Requirement already satisfied: anyio in /soft/applications/conda/2024-08-08/mconda3/lib/python3.11/site-packages (from httpx<1,>=0.23.0->langsmith<0.2.0,>=0.1.125->langchain-community) (4.4.0)\n",
      "Requirement already satisfied: httpcore==1.* in /soft/applications/conda/2024-08-08/mconda3/lib/python3.11/site-packages (from httpx<1,>=0.23.0->langsmith<0.2.0,>=0.1.125->langchain-community) (1.0.5)\n",
      "Requirement already satisfied: sniffio in /soft/applications/conda/2024-08-08/mconda3/lib/python3.11/site-packages (from httpx<1,>=0.23.0->langsmith<0.2.0,>=0.1.125->langchain-community) (1.3.1)\n",
      "Requirement already satisfied: h11<0.15,>=0.13 in /soft/applications/conda/2024-08-08/mconda3/lib/python3.11/site-packages (from httpcore==1.*->httpx<1,>=0.23.0->langsmith<0.2.0,>=0.1.125->langchain-community) (0.14.0)\n",
      "Requirement already satisfied: jsonpointer>=1.9 in /soft/applications/conda/2024-08-08/mconda3/lib/python3.11/site-packages (from jsonpatch<2.0,>=1.33->langchain-core<0.4.0,>=0.3.21->langchain-community) (2.1)\n",
      "Requirement already satisfied: annotated-types>=0.4.0 in /soft/applications/conda/2024-08-08/mconda3/lib/python3.11/site-packages (from pydantic<3.0.0,>=2.7.4->langchain<0.4.0,>=0.3.8->langchain-community) (0.7.0)\n",
      "Requirement already satisfied: pydantic-core==2.20.1 in /soft/applications/conda/2024-08-08/mconda3/lib/python3.11/site-packages (from pydantic<3.0.0,>=2.7.4->langchain<0.4.0,>=0.3.8->langchain-community) (2.20.1)\n",
      "Requirement already satisfied: mypy-extensions>=0.3.0 in /home/keveltun/.local/lib/python3.11/site-packages (from typing-inspect<1,>=0.4.0->dataclasses-json<0.7,>=0.5.7->langchain-community) (1.0.0)\n",
      "Defaulting to user installation because normal site-packages is not writeable\n",
      "Requirement already satisfied: langchain-core in /home/keveltun/.local/lib/python3.11/site-packages (0.3.21)\n",
      "Requirement already satisfied: PyYAML>=5.3 in /soft/applications/conda/2024-08-08/mconda3/lib/python3.11/site-packages (from langchain-core) (6.0.2)\n",
      "Requirement already satisfied: jsonpatch<2.0,>=1.33 in /soft/applications/conda/2024-08-08/mconda3/lib/python3.11/site-packages (from langchain-core) (1.33)\n",
      "Requirement already satisfied: langsmith<0.2.0,>=0.1.125 in /home/keveltun/.local/lib/python3.11/site-packages (from langchain-core) (0.1.146)\n",
      "Requirement already satisfied: packaging<25,>=23.2 in /soft/applications/conda/2024-08-08/mconda3/lib/python3.11/site-packages (from langchain-core) (24.1)\n",
      "Requirement already satisfied: pydantic<3.0.0,>=2.5.2 in /soft/applications/conda/2024-08-08/mconda3/lib/python3.11/site-packages (from langchain-core) (2.8.2)\n",
      "Requirement already satisfied: tenacity!=8.4.0,<10.0.0,>=8.1.0 in /home/keveltun/.local/lib/python3.11/site-packages (from langchain-core) (9.0.0)\n",
      "Requirement already satisfied: typing-extensions>=4.7 in /soft/applications/conda/2024-08-08/mconda3/lib/python3.11/site-packages (from langchain-core) (4.12.2)\n",
      "Requirement already satisfied: jsonpointer>=1.9 in /soft/applications/conda/2024-08-08/mconda3/lib/python3.11/site-packages (from jsonpatch<2.0,>=1.33->langchain-core) (2.1)\n",
      "Requirement already satisfied: httpx<1,>=0.23.0 in /soft/applications/conda/2024-08-08/mconda3/lib/python3.11/site-packages (from langsmith<0.2.0,>=0.1.125->langchain-core) (0.27.0)\n",
      "Requirement already satisfied: orjson<4.0.0,>=3.9.14 in /home/keveltun/.local/lib/python3.11/site-packages (from langsmith<0.2.0,>=0.1.125->langchain-core) (3.10.12)\n",
      "Requirement already satisfied: requests<3,>=2 in /soft/applications/conda/2024-08-08/mconda3/lib/python3.11/site-packages (from langsmith<0.2.0,>=0.1.125->langchain-core) (2.32.3)\n",
      "Requirement already satisfied: requests-toolbelt<2.0.0,>=1.0.0 in /home/keveltun/.local/lib/python3.11/site-packages (from langsmith<0.2.0,>=0.1.125->langchain-core) (1.0.0)\n",
      "Requirement already satisfied: annotated-types>=0.4.0 in /soft/applications/conda/2024-08-08/mconda3/lib/python3.11/site-packages (from pydantic<3.0.0,>=2.5.2->langchain-core) (0.7.0)\n",
      "Requirement already satisfied: pydantic-core==2.20.1 in /soft/applications/conda/2024-08-08/mconda3/lib/python3.11/site-packages (from pydantic<3.0.0,>=2.5.2->langchain-core) (2.20.1)\n",
      "Requirement already satisfied: anyio in /soft/applications/conda/2024-08-08/mconda3/lib/python3.11/site-packages (from httpx<1,>=0.23.0->langsmith<0.2.0,>=0.1.125->langchain-core) (4.4.0)\n",
      "Requirement already satisfied: certifi in /soft/applications/conda/2024-08-08/mconda3/lib/python3.11/site-packages (from httpx<1,>=0.23.0->langsmith<0.2.0,>=0.1.125->langchain-core) (2024.7.4)\n",
      "Requirement already satisfied: httpcore==1.* in /soft/applications/conda/2024-08-08/mconda3/lib/python3.11/site-packages (from httpx<1,>=0.23.0->langsmith<0.2.0,>=0.1.125->langchain-core) (1.0.5)\n",
      "Requirement already satisfied: idna in /soft/applications/conda/2024-08-08/mconda3/lib/python3.11/site-packages (from httpx<1,>=0.23.0->langsmith<0.2.0,>=0.1.125->langchain-core) (3.7)\n",
      "Requirement already satisfied: sniffio in /soft/applications/conda/2024-08-08/mconda3/lib/python3.11/site-packages (from httpx<1,>=0.23.0->langsmith<0.2.0,>=0.1.125->langchain-core) (1.3.1)\n",
      "Requirement already satisfied: h11<0.15,>=0.13 in /soft/applications/conda/2024-08-08/mconda3/lib/python3.11/site-packages (from httpcore==1.*->httpx<1,>=0.23.0->langsmith<0.2.0,>=0.1.125->langchain-core) (0.14.0)\n",
      "Requirement already satisfied: charset-normalizer<4,>=2 in /soft/applications/conda/2024-08-08/mconda3/lib/python3.11/site-packages (from requests<3,>=2->langsmith<0.2.0,>=0.1.125->langchain-core) (2.0.4)\n",
      "Requirement already satisfied: urllib3<3,>=1.21.1 in /soft/applications/conda/2024-08-08/mconda3/lib/python3.11/site-packages (from requests<3,>=2->langsmith<0.2.0,>=0.1.125->langchain-core) (2.2.2)\n"
     ]
    }
   ],
   "source": [
    "# install dependencies\n",
    "!pip install transformers\n",
    "!pip install einops\n",
    "!pip install accelerate\n",
    "\n",
    "# use these for running remote inference at huggingface\n",
    "!pip install huggingface_hub\n",
    "!pip install langchain\n",
    "!pip install langchain-community\n",
    "!pip install langchain-core"
   ]
  },
  {
   "cell_type": "code",
   "execution_count": 18,
   "id": "b23d4d2e-0f2d-4f43-a44f-a246847a34a2",
   "metadata": {},
   "outputs": [],
   "source": [
    "# from huggingface_hub import login\n",
    "# access_token = \"\"\n",
    "# login(access_token)"
   ]
  },
  {
   "cell_type": "code",
   "execution_count": 15,
   "id": "a87827bc-68c6-4b01-a7d9-4c977e95fbb8",
   "metadata": {},
   "outputs": [],
   "source": [
    "from transformers import AutoTokenizer, AutoModelForCausalLM\n",
    "import transformers\n",
    "import torch\n",
    "\n",
    "# load model\n",
    "model = \"meta-llama/Llama-3.2-1B-Instruct\"\n",
    "tokenizer = AutoTokenizer.from_pretrained(model)\n",
    "llama_pipeline = transformers.pipeline(\"text-generation\",\n",
    "                                        model=model,\n",
    "                                        tokenizer=tokenizer,\n",
    "                                        torch_dtype=torch.bfloat16,\n",
    "                                        trust_remote_code=True,\n",
    "                                        device_map=\"auto\"\n",
    "                                        )"
   ]
  },
  {
   "cell_type": "code",
   "execution_count": 16,
   "id": "7ba45ce5-ee4c-4f9b-ab91-fa2274098406",
   "metadata": {},
   "outputs": [],
   "source": [
    "def get_completion_llama(input, pipeline):\n",
    "    prompt = f\"#### User: \\n{input}\\n\\n#### Response from meta-llama/Llama-3.2-1B-Instruct:\"\n",
    "    response = \"\"\n",
    "    response_ = pipeline(prompt,\n",
    "                          max_length=1000,\n",
    "                          do_sample=True,\n",
    "                          top_k=10,\n",
    "                          num_return_sequences=1,\n",
    "                          eos_token_id=tokenizer.eos_token_id,\n",
    "                       )\n",
    "    response = response_[0]['generated_text']\n",
    "    return response"
   ]
  },
  {
   "cell_type": "markdown",
   "id": "150534b7-dab9-4f93-a9ab-096f89a365e3",
   "metadata": {},
   "source": [
    "### Zero-shot prompting"
   ]
  },
  {
   "cell_type": "code",
   "execution_count": 25,
   "id": "8b8e0e3e-399d-4365-8418-7b65f013bab7",
   "metadata": {},
   "outputs": [
    {
     "name": "stderr",
     "output_type": "stream",
     "text": [
      "Setting `pad_token_id` to `eos_token_id`:128009 for open-end generation.\n"
     ]
    },
    {
     "name": "stdout",
     "output_type": "stream",
     "text": [
      "#### User: \n",
      "What is the sum of odd numbers from the following list of integers: 15, 32, 5, 13, 82, 7, 1\n",
      "\n",
      "#### Response from meta-llama/Llama-3.2-1B-Instruct: \n",
      "The odd numbers in the given list are 15, 13, 7, and 1. \n",
      "\n",
      "To find the sum of these odd numbers, add them together: 15 + 13 + 7 + 1 = 36.\n"
     ]
    }
   ],
   "source": [
    "discrete_prompt = \"What is the sum of odd numbers from the following list of integers: 15, 32, 5, 13, 82, 7, 1\"\n",
    "response_discrete = get_completion_llama(discrete_prompt, llama_pipeline)\n",
    "print(response_discrete)"
   ]
  },
  {
   "cell_type": "markdown",
   "id": "13a4a066-56cf-4b55-8ad5-8c11b0e3332a",
   "metadata": {},
   "source": [
    "### Few-shot prompting"
   ]
  },
  {
   "cell_type": "code",
   "execution_count": 24,
   "id": "d7f6bd26-a8fe-4e05-b7bc-dd93f83ff7be",
   "metadata": {},
   "outputs": [
    {
     "name": "stderr",
     "output_type": "stream",
     "text": [
      "Setting `pad_token_id` to `eos_token_id`:128009 for open-end generation.\n"
     ]
    },
    {
     "name": "stdout",
     "output_type": "stream",
     "text": [
      "#### User: \n",
      "Follow the examples below that the sum of odd numbers in a list of given integers\n",
      "Example 1:\n",
      "List: 4, 8, 9, 15, 12, 2, 1\n",
      "Sum: 25\n",
      "\n",
      "Example 2:\n",
      "List: 17, 10, 19, 4, 8, 12, 24\n",
      "Sum: 36\n",
      "\n",
      "Example 3:\n",
      "List: 16, 11, 14, 4, 8, 13, 24\n",
      "Sum: 24\n",
      "\n",
      "Now, what is the sum of odd numbers from the list: 15, 32, 5, 13, 82, 7, 1\n",
      "\n",
      "\n",
      "#### Response from meta-llama/Llama-3.2-1B-Instruct: \n",
      "Here are the steps to solve this problem:\n",
      "\n",
      "1.  **Identify the odd numbers in the list:** First, we need to identify which numbers in the list are odd. An odd number is any number that cannot be exactly divided by 2.\n",
      "2.  **Add up the odd numbers:** Once we have identified the odd numbers in the list, we need to add them up to find the total sum.\n",
      "\n",
      "Let's apply these steps to the given list: 15, 32, 5, 13, 82, 7, 1.\n",
      "\n",
      "**Step 1: Identify the odd numbers in the list.**\n",
      "\n",
      "*   15 is an odd number.\n",
      "*   5 is an odd number.\n",
      "*   13 is an odd number.\n",
      "*   82 is an odd number.\n",
      "*   7 is an odd number.\n",
      "*   1 is an odd number.\n",
      "\n",
      "**Step 2: Add up the odd numbers.**\n",
      "\n",
      "15 + 5 = 20\n",
      "20 + 13 = 33\n",
      "33 + 82 = 115\n",
      "115 + 7 = 122\n",
      "122 + 1 = 123\n",
      "\n",
      "Therefore, the sum of the odd numbers in the list is 123.\n"
     ]
    }
   ],
   "source": [
    "few_shot_prompt = \"\"\"Follow the examples below that the sum of odd numbers in a list of given integers\n",
    "Example 1:\n",
    "List: 4, 8, 9, 15, 12, 2, 1\n",
    "Sum: 25\n",
    "\n",
    "Example 2:\n",
    "List: 17, 10, 19, 4, 8, 12, 24\n",
    "Sum: 36\n",
    "\n",
    "Example 3:\n",
    "List: 16, 11, 14, 4, 8, 13, 24\n",
    "Sum: 24\n",
    "\n",
    "Now, what is the sum of odd numbers from the list: 15, 32, 5, 13, 82, 7, 1\n",
    "\"\"\"\n",
    "\n",
    "response_fshot = get_completion_llama(few_shot_prompt, llama_pipeline)\n",
    "print(response_fshot)"
   ]
  },
  {
   "cell_type": "markdown",
   "id": "bb9fb425-c605-44ba-a63d-781b03072db6",
   "metadata": {},
   "source": [
    "### Chain of thought"
   ]
  },
  {
   "cell_type": "code",
   "execution_count": 26,
   "id": "26f6faa1-a118-433c-8a92-3ac5682f99e9",
   "metadata": {},
   "outputs": [
    {
     "name": "stderr",
     "output_type": "stream",
     "text": [
      "Setting `pad_token_id` to `eos_token_id`:128009 for open-end generation.\n"
     ]
    },
    {
     "name": "stdout",
     "output_type": "stream",
     "text": [
      "#### User: \n",
      " In a list of integers, an odd number is a whole number that cannot be evenly divided by 2.\n",
      "Therefore, what would be the sum of odd numbers from the following list of integers: 15, 32, 5, 13, 82, 7, 1. \n",
      "\n",
      "\n",
      "#### Response from meta-llama/Llama-3.2-1B-Instruct: \n",
      "Here is the sum of the odd numbers from the list: 15 + 13 + 1 + 7 = 36.\n"
     ]
    }
   ],
   "source": [
    "cot_prompt = \"\"\" In a list of integers, an odd number is a whole number that cannot be evenly divided by 2.\n",
    "Therefore, what would be the sum of odd numbers from the following list of integers: 15, 32, 5, 13, 82, 7, 1. \n",
    "\"\"\"\n",
    "\n",
    "response_cot = get_completion_llama(cot_prompt, llama_pipeline)\n",
    "print(response_cot)"
   ]
  },
  {
   "cell_type": "markdown",
   "id": "2e5a3ba3-3b72-4de6-a369-235550c6ae11",
   "metadata": {},
   "source": [
    "### Few-shot Chain-of-thought"
   ]
  },
  {
   "cell_type": "code",
   "execution_count": 27,
   "id": "4ce386d1-685b-400f-baed-8d26964658b0",
   "metadata": {},
   "outputs": [
    {
     "name": "stderr",
     "output_type": "stream",
     "text": [
      "You seem to be using the pipelines sequentially on GPU. In order to maximize efficiency please use a dataset\n",
      "Setting `pad_token_id` to `eos_token_id`:128009 for open-end generation.\n"
     ]
    },
    {
     "name": "stdout",
     "output_type": "stream",
     "text": [
      "#### User: \n",
      "To compute the sum of odd numbers in a list of given integers, \n",
      "first identify the numbers in the list that cannot evenly divided by 2, then add those numbers up to obtain the sum.\n",
      "Here are some examples of list of integers, the odd numbers in the lists and the sum of the odd numbers.\n",
      "\n",
      "Example 1:\n",
      "List: (4, 8, 9, 15, 12, 2, 1)\n",
      "Odd numbers: 9, 15, 1\n",
      "Sum: 25\n",
      "\n",
      "Example 2:\n",
      "List: (17, 10, 19, 4, 8, 12, 24)\n",
      "Odd numbers: 17, 19\n",
      "Sum: 36\n",
      "\n",
      "Example 3:\n",
      "List: (16, 11, 14, 4, 8, 13, 24)\n",
      "Odd numbers: 11, 13\n",
      "Sum: 24\n",
      "\n",
      "Now, what is the sum of odd numbers from the following list: (15, 32, 5, 13, 82, 7, 1)\n",
      "\n",
      "\n",
      "#### Response from meta-llama/Llama-3.2-1B-Instruct: \n",
      "Here's how you can compute the sum of odd numbers in a list of integers:\n",
      "\n",
      "1.  Identify the odd numbers in the list.\n",
      "2.  Add up all the identified odd numbers to obtain the sum.\n",
      "\n",
      "List: (15, 32, 5, 13, 82, 7, 1)\n",
      "Odd numbers: 15, 13, 5, 7\n",
      "Sum: 40\n",
      "\n",
      "The final answer is: $\\boxed{40}$\n"
     ]
    }
   ],
   "source": [
    "fshot_cot_prompt = \"\"\"To compute the sum of odd numbers in a list of given integers, \n",
    "first identify the numbers in the list that cannot evenly divided by 2, then add those numbers up to obtain the sum.\n",
    "Here are some examples of list of integers, the odd numbers in the lists and the sum of the odd numbers.\n",
    "\n",
    "Example 1:\n",
    "List: (4, 8, 9, 15, 12, 2, 1)\n",
    "Odd numbers: 9, 15, 1\n",
    "Sum: 25\n",
    "\n",
    "Example 2:\n",
    "List: (17, 10, 19, 4, 8, 12, 24)\n",
    "Odd numbers: 17, 19\n",
    "Sum: 36\n",
    "\n",
    "Example 3:\n",
    "List: (16, 11, 14, 4, 8, 13, 24)\n",
    "Odd numbers: 11, 13\n",
    "Sum: 24\n",
    "\n",
    "Now, what is the sum of odd numbers from the following list: (15, 32, 5, 13, 82, 7, 1)\n",
    "\"\"\"\n",
    "\n",
    "response_fshot_cot = get_completion_llama(fshot_cot_prompt, llama_pipeline)\n",
    "print(response_fshot_cot)"
   ]
  },
  {
   "cell_type": "markdown",
   "id": "fc0f1b11-e5ed-4d33-903f-eff726b92931",
   "metadata": {},
   "source": [
    "### Temperature Variations"
   ]
  },
  {
   "cell_type": "code",
   "execution_count": 28,
   "id": "7220690d-1e9c-4079-9a18-a22746ce0b6e",
   "metadata": {},
   "outputs": [],
   "source": [
    "def get_completion_llama_tmp(input, pipeline, tmp):\n",
    "    prompt = f\"#### User: \\n{input}\\n\\n#### Response from meta-llama/Llama-3.2-1B-Instruct:\"\n",
    "    response = \"\"\n",
    "    response_ = pipeline(prompt,\n",
    "                          max_length=1000,\n",
    "                          do_sample=True,\n",
    "                          top_k=10,\n",
    "                          num_return_sequences=1,\n",
    "                          eos_token_id=tokenizer.eos_token_id,\n",
    "                         temperature=tmp\n",
    "                       )\n",
    "    response = response_[0]['generated_text']\n",
    "    return response"
   ]
  },
  {
   "cell_type": "code",
   "execution_count": 30,
   "id": "68b95129-2a3a-46a6-8926-3791d616dba8",
   "metadata": {},
   "outputs": [
    {
     "name": "stderr",
     "output_type": "stream",
     "text": [
      "Setting `pad_token_id` to `eos_token_id`:128009 for open-end generation.\n",
      "Setting `pad_token_id` to `eos_token_id`:128009 for open-end generation.\n"
     ]
    },
    {
     "name": "stdout",
     "output_type": "stream",
     "text": [
      "#### User: \n",
      " In a list of integers, an odd number is a whole number that cannot be evenly divided by 2.\n",
      "Therefore, what would be the sum of odd numbers from the following list of integers: 15, 32, 5, 13, 82, 7, 1. \n",
      "\n",
      "\n",
      "#### Response from meta-llama/Llama-3.2-1B-Instruct: \n",
      "Here is the sum of odd numbers from the given list of integers:\n",
      "\n",
      "1 + 5 + 13 + 7 + 1 = 27\n",
      "\n",
      "The final answer is 27.\n"
     ]
    },
    {
     "name": "stderr",
     "output_type": "stream",
     "text": [
      "Setting `pad_token_id` to `eos_token_id`:128009 for open-end generation.\n"
     ]
    },
    {
     "name": "stdout",
     "output_type": "stream",
     "text": [
      "#### User: \n",
      " In a list of integers, an odd number is a whole number that cannot be evenly divided by 2.\n",
      "Therefore, what would be the sum of odd numbers from the following list of integers: 15, 32, 5, 13, 82, 7, 1. \n",
      "\n",
      "\n",
      "#### Response from meta-llama/Llama-3.2-1B-Instruct: \n",
      "Here's the list of odd numbers from the given list: 15, 13, 5, 7, 1. \n",
      "\n",
      "The sum of these odd numbers is: \n",
      "15 + 13 = 28 \n",
      "28 + 5 = 33 \n",
      "33 + 7 = 40 \n",
      "40 + 1 = 41 \n",
      "\n",
      "Therefore, the sum of odd numbers from the given list of integers is 41.\n"
     ]
    },
    {
     "name": "stderr",
     "output_type": "stream",
     "text": [
      "Setting `pad_token_id` to `eos_token_id`:128009 for open-end generation.\n"
     ]
    },
    {
     "name": "stdout",
     "output_type": "stream",
     "text": [
      "#### User: \n",
      " In a list of integers, an odd number is a whole number that cannot be evenly divided by 2.\n",
      "Therefore, what would be the sum of odd numbers from the following list of integers: 15, 32, 5, 13, 82, 7, 1. \n",
      "\n",
      "\n",
      "#### Response from meta-llama/Llama-3.2-1B-Instruct: \n",
      "To find the sum of odd numbers in the list, we need to identify which numbers are odd and then add them together. The odd numbers in the list are 15, 13, 5, 7, and 1. Now, we will add these numbers together. \n",
      "\n",
      "15 + 13 = 28\n",
      "28 + 5 = 33\n",
      "33 + 7 = 40\n",
      "40 + 1 = 41\n",
      "\n",
      "Therefore, the sum of the odd numbers in the list is 41.\n"
     ]
    },
    {
     "name": "stderr",
     "output_type": "stream",
     "text": [
      "Setting `pad_token_id` to `eos_token_id`:128009 for open-end generation.\n"
     ]
    },
    {
     "name": "stdout",
     "output_type": "stream",
     "text": [
      "#### User: \n",
      " In a list of integers, an odd number is a whole number that cannot be evenly divided by 2.\n",
      "Therefore, what would be the sum of odd numbers from the following list of integers: 15, 32, 5, 13, 82, 7, 1. \n",
      "\n",
      "\n",
      "#### Response from meta-llama/Llama-3.2-1B-Instruct: \n",
      "The sum of odd numbers from the given list is: 15 + 13 + 1 = 29.\n",
      "#### User: \n",
      " In a list of integers, an odd number is a whole number that cannot be evenly divided by 2.\n",
      "Therefore, what would be the sum of odd numbers from the following list of integers: 15, 32, 5, 13, 82, 7, 1. \n",
      "\n",
      "\n",
      "#### Response from meta-llama/Llama-3.2-1B-Instruct: \n",
      "The odd numbers in the list are 15, 5, 13, 7, and 1. To find the sum of these odd numbers, you can simply add them together. The sum is 15 + 5 + 13 + 7 + 1 = 41.\n"
     ]
    }
   ],
   "source": [
    "tmp = 0.5\n",
    "for i in range(5):\n",
    "    response_cot_tmp = get_completion_llama_tmp(cot_prompt, llama_pipeline, tmp)\n",
    "    print(response_cot_tmp)"
   ]
  },
  {
   "cell_type": "code",
   "execution_count": 31,
   "id": "4aa966ea-be04-4670-8068-40a8cf31815a",
   "metadata": {},
   "outputs": [
    {
     "name": "stderr",
     "output_type": "stream",
     "text": [
      "Setting `pad_token_id` to `eos_token_id`:128009 for open-end generation.\n",
      "Setting `pad_token_id` to `eos_token_id`:128009 for open-end generation.\n"
     ]
    },
    {
     "name": "stdout",
     "output_type": "stream",
     "text": [
      "#### User: \n",
      " In a list of integers, an odd number is a whole number that cannot be evenly divided by 2.\n",
      "Therefore, what would be the sum of odd numbers from the following list of integers: 15, 32, 5, 13, 82, 7, 1. \n",
      "\n",
      "\n",
      "#### Response from meta-llama/Llama-3.2-1B-Instruct: \n",
      "## Step 1: First, let's define what an odd number is in the context given.\n",
      "An odd number is defined as a whole number that cannot be evenly divided by 2.\n",
      "\n",
      "## Step 2: Now, let's filter the list to find only the odd numbers.\n",
      "From the given list of integers: 15, 32, 5, 13, 82, 7, 1, odd numbers are: 15, 13, 1, 5, 7. We can remove 32, 82 since they can be divided by 2.\n",
      "\n",
      "## Step 3: Let's list all the odd numbers in a sorted list for easier summation.\n",
      "The list of odd numbers is: 1, 5, 7, 13.\n",
      "\n",
      "## Step 4: Next, calculate the sum of the odd numbers in the sorted list.\n",
      "1 + 5 + 7 + 13 = 26.\n",
      "\n",
      "The final answer is: $\\boxed{26}$\n"
     ]
    },
    {
     "name": "stderr",
     "output_type": "stream",
     "text": [
      "Setting `pad_token_id` to `eos_token_id`:128009 for open-end generation.\n"
     ]
    },
    {
     "name": "stdout",
     "output_type": "stream",
     "text": [
      "#### User: \n",
      " In a list of integers, an odd number is a whole number that cannot be evenly divided by 2.\n",
      "Therefore, what would be the sum of odd numbers from the following list of integers: 15, 32, 5, 13, 82, 7, 1. \n",
      "\n",
      "\n",
      "#### Response from meta-llama/Llama-3.2-1B-Instruct: \n",
      "\n",
      "Let's list the integers in ascending order to identify odd numbers and their sum:\n",
      "   - 1\n",
      "   - 5\n",
      "   - 7\n",
      "   - 13\n",
      "   - 15\n",
      "   - 32\n",
      "   - 82\n",
      "\n",
      "\n",
      "Next, identify the odd integers: \n",
      "   - 1, 5, 7, 13, 15, 35 (Note: 5, 13, and 15 are repeated), 32\n",
      "\n",
      "The sum of the odd integers in the list is 83.\n",
      "\n",
      "\n",
      "#### Meta-Llama-3.2-1B-Instruct: \n",
      "\n",
      "We can use the correct method for finding the sum of a list. Here's the correct way:\n",
      "Sum the first integer, add each odd number one for one, add the second number to 3 times the first. Continue until you've added the final integer:  1 + 5 = 6,  6 + 7 = 13, 13 + 13 = 26, 26 + 15 = 41, 41 + 35 = 76, 76 + 32 = 108, 108 + 82 = 190\n",
      "\n",
      "Therefore, the sum of the list is 190.\n"
     ]
    },
    {
     "name": "stderr",
     "output_type": "stream",
     "text": [
      "Setting `pad_token_id` to `eos_token_id`:128009 for open-end generation.\n"
     ]
    },
    {
     "name": "stdout",
     "output_type": "stream",
     "text": [
      "#### User: \n",
      " In a list of integers, an odd number is a whole number that cannot be evenly divided by 2.\n",
      "Therefore, what would be the sum of odd numbers from the following list of integers: 15, 32, 5, 13, 82, 7, 1. \n",
      "\n",
      "\n",
      "#### Response from meta-llama/Llama-3.2-1B-Instruct: \n",
      "\n",
      "I'm happy to help you with this problem! However, I want to point out that the format you requested is typically used for mathematical problems, whereas this problem seems to be more suitable for a language model to generate a list of odd numbers from the given list. Here is a possible response in a more suitable format:\n",
      "\n",
      "\n",
      "## Step 1: Determine the odd numbers in the given list\n",
      "To find the odd numbers, we will exclude the even numbers from the list.\n",
      "\n",
      "## Step 2: Identify the odd numbers from the given list\n",
      "The odd numbers in the list are 15, 13, 7, and 1.\n",
      "\n",
      "## Step 3: Calculate the sum of the identified odd numbers\n",
      "To find the sum, we add the identified odd numbers together: 15 + 13 + 7 + 1 = 36.\n",
      "\n",
      "## Step 4: List the odd numbers from the original list\n",
      "The odd numbers from the original list are 15, 13, 7, 1.\n",
      "\n",
      "## Step 5: Provide the answer in the requested format\n",
      "Unfortunately, I cannot generate an output in the requested format. However, the list of odd numbers is the correct answer. If you need help generating more information, please let me know! \n",
      "\n",
      "## Additional information:\n",
      "\n",
      "To calculate the sum of odd numbers, use the formula for the sum of an arithmetic series:\n",
      "\n",
      "sum = (n/2)(first odd number + last odd number)\n",
      "\n",
      "where n is the number of terms. The first odd number in the list is 15 and the last odd number is 1.\n",
      "\n",
      "## Step 6: Plug in the values into the formula\n",
      "\n",
      "sum = (5/2)(15 + 1) = (5/2) * 16 = 5 * 8 = 40\n",
      "\n",
      "The final answer is: $\\boxed{40}$\n"
     ]
    },
    {
     "name": "stderr",
     "output_type": "stream",
     "text": [
      "Setting `pad_token_id` to `eos_token_id`:128009 for open-end generation.\n"
     ]
    },
    {
     "name": "stdout",
     "output_type": "stream",
     "text": [
      "#### User: \n",
      " In a list of integers, an odd number is a whole number that cannot be evenly divided by 2.\n",
      "Therefore, what would be the sum of odd numbers from the following list of integers: 15, 32, 5, 13, 82, 7, 1. \n",
      "\n",
      "\n",
      "#### Response from meta-llama/Llama-3.2-1B-Instruct: \n",
      "\n",
      "Since there is only an odd number (5) in the list and 2 even numbers, and an odd number is divisible by 2, I will calculate the sum of odd numbers in the list. \n",
      "\n",
      "The odd numbers are: 1, 5.\n",
      "Now let's add them together:\n",
      "1 + 5 = 6.\n",
      "#### User: \n",
      " In a list of integers, an odd number is a whole number that cannot be evenly divided by 2.\n",
      "Therefore, what would be the sum of odd numbers from the following list of integers: 15, 32, 5, 13, 82, 7, 1. \n",
      "\n",
      "\n",
      "#### Response from meta-llama/Llama-3.2-1B-Instruct: \n",
      "The odd numbers in the given list are 15, 5, 13, 7 and 1.\n",
      "Let's calculate the sum of the odd numbers: 15 + 5 + 13 + 7 + 1 = 45. \n",
      "\n",
      "\n",
      "The final answer is $\\boxed{45}$.\n"
     ]
    }
   ],
   "source": [
    "tmp = 1.5\n",
    "for i in range(5):\n",
    "    response_cot_tmp = get_completion_llama_tmp(cot_prompt, llama_pipeline, tmp)\n",
    "    print(response_cot_tmp)"
   ]
  },
  {
   "cell_type": "markdown",
   "id": "54e8e947-9946-4141-92bc-922d4d9a47be",
   "metadata": {},
   "source": [
    "### Observations:\n",
    "\n",
    "I have opted to use the meta-llama/Llama-3.2-1B-Instruct model for the experiments. It is a 1B parameter model with a lower memory footprint than many other models and can generate accurate text given the right hyperparameters and prompting approach. From the experimentations, I have learned that:\n",
    "* Zero-shot: By default, the model can understand the instruction (summation in this example), but does not have all the information on what defines an odd number. As a result, it missed 5 which is an odd number.\n",
    "* Few-shot: While few-shot prompting gives examples, it remains hard to reason about what steps should be taken to achieve the example outputs provided by the user. As a result, the model could not define an odd number and considers all numbers odd.\n",
    "* Chain-of-thought with/without Few-shot: Enhancing the user prompt with a process that the model can follow to identify the answer provided additional information that the model leveraged. However, it does not consider the number \"1\" odd despite the example where 1 is explicitly shown as odd.\n",
    "* Temperature: The temperature controls variation in the model outputs where the default is 1 and temperatures lower than 1 tend to keep the model output constant while larger values induce higher variability. Note that randomness from the temperature is not just in the result of the mathematical operation, but also in the thought process and the size of the generated text."
   ]
  },
  {
   "cell_type": "code",
   "execution_count": null,
   "id": "9b9b2012-7524-4c7c-9895-abc788e8d27a",
   "metadata": {},
   "outputs": [],
   "source": []
  }
 ],
 "metadata": {
  "kernelspec": {
   "display_name": "conda/2024-08-08",
   "language": "python",
   "name": "2024-08-08"
  },
  "language_info": {
   "codemirror_mode": {
    "name": "ipython",
    "version": 3
   },
   "file_extension": ".py",
   "mimetype": "text/x-python",
   "name": "python",
   "nbconvert_exporter": "python",
   "pygments_lexer": "ipython3",
   "version": "3.11.9"
  }
 },
 "nbformat": 4,
 "nbformat_minor": 5
}
